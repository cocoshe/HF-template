{
 "cells": [
  {
   "cell_type": "markdown",
   "source": [
    "# How to 🤗'Hugging Face' —— A mini and basic template to start with Pre-trained Models\n",
    "> Take regression model for example"
   ],
   "metadata": {
    "collapsed": false
   }
  },
  {
   "cell_type": "markdown",
   "source": [
    "## 1. import packages"
   ],
   "metadata": {
    "collapsed": false,
    "pycharm": {
     "name": "#%% md\n"
    }
   }
  },
  {
   "cell_type": "code",
   "execution_count": null,
   "metadata": {
    "collapsed": true
   },
   "outputs": [],
   "source": [
    "import numpy as np\n",
    "import matplotlib.pyplot as plt\n",
    "import pandas as pd\n",
    "from transformers import AutoModel, AutoTokenizer\n",
    "import torch\n",
    "import torch.nn as nn\n",
    "from torch.utils.data import Dataset, DataLoader"
   ]
  },
  {
   "cell_type": "markdown",
   "source": [
    "## 2. Choose your favourite pretrained model in huggingface"
   ],
   "metadata": {
    "collapsed": false
   }
  },
  {
   "cell_type": "code",
   "source": [
    "# for example\n",
    "pretrained_model_path = '../input/huggingface-bert-variants/bert-base-cased/bert-base-cased'"
   ],
   "metadata": {
    "collapsed": false,
    "pycharm": {
     "name": "#%%\n"
    }
   },
   "execution_count": null,
   "outputs": []
  },
  {
   "cell_type": "markdown",
   "source": [
    "## 3. Dataset class\n",
    "1. inherit from torch.utils.data.Dataset\n",
    "2. implement `__init__`, `__getitem__` and `__len__` methods\n",
    "3. `__getitem__` method should do these things:\n",
    "    1. tokenize the sentence\n",
    "    2. convert tokenized sentence to tensor\n",
    "    3. return the tensor and label(if you have the label)"
   ],
   "metadata": {
    "collapsed": false
   }
  },
  {
   "cell_type": "code",
   "execution_count": null,
   "outputs": [],
   "source": [
    "class Mydataset(Dataset):\n",
    "    def __init__(self, df, pretrained_model_path):\n",
    "        self.df = df\n",
    "        self.tokenizer = AutoTokenizer.from_pretrained(pretrained_model_path)\n",
    "\n",
    "    def __len__(self):\n",
    "        return len(self.df)\n",
    "\n",
    "    def __getitem__(self, idx, train=True):\n",
    "        sample = self.df.iloc[idx].reset_index(drop=True) # get the idx row of df\n",
    "        context = sample['here is the context']\n",
    "\n",
    "        if train: # if train, we would get the label, but if test, we would not\n",
    "            label = sample['here is the label'].astype(np.float32)\n",
    "        # call tokenizer to encode the context\n",
    "        tokens = self.tokenizer(context, return_tensors='pt', padding='max_length', truncation=True, max_length=512)\n",
    "\n",
    "        # get input_ids, attention_mask from tokens (or you can just return the tokens and split it later)\n",
    "        input_ids = tokens['input_ids'].squeeze(0)\n",
    "        attention_mask = tokens['attention_mask'].squeeze(0)\n",
    "\n",
    "        # return the input_ids, attention_mask, label\n",
    "        if train:\n",
    "            return input_ids, attention_mask, label\n",
    "        else:\n",
    "            return input_ids, attention_mask"
   ],
   "metadata": {
    "collapsed": false,
    "pycharm": {
     "name": "#%%\n"
    }
   }
  },
  {
   "cell_type": "markdown",
   "source": [
    "## 4. Model class\n",
    "1. inherit from torch.nn.Module\n",
    "2. implement `__init__`, `forward`\n",
    "3. the `forward` will be called when `model(input_ids, attention_mask)`"
   ],
   "metadata": {
    "collapsed": false,
    "pycharm": {
     "name": "#%% md\n"
    }
   }
  },
  {
   "cell_type": "code",
   "execution_count": null,
   "outputs": [],
   "source": [
    "class Model(nn.Module):\n",
    "    def __init__(self, pretrained_model_path):\n",
    "        super(Model, self).__init__()\n",
    "        self.bert = AutoModel.from_pretrained(pretrained_model_path)\n",
    "        self.down = nn.Linear(768, 1)\n",
    "\n",
    "    def forward(self, input_ids, attention_mask):\n",
    "        outputs = self.bert(input_ids=input_ids, attention_mask=attention_mask)\n",
    "        last_hidden_states = outputs['last_hidden_state']  # now we got the last hidden state like [batch_size, seq_len, hidden_size], the hidden_size is 768 in bert-base\n",
    "        down = self.down(last_hidden_states) # now we got the logits like [batch_size, seq_len, 1]\n",
    "        # now we got the logits like [batch_size, 1], but to adjust the label dimension, we need to squeeze the first dimension[batch_size], we do this\n",
    "        logits = down[:, 0, :].squeeze(-1)\n",
    "\n",
    "        return logits"
   ],
   "metadata": {
    "collapsed": false,
    "pycharm": {
     "name": "#%%\n"
    }
   }
  },
  {
   "cell_type": "markdown",
   "source": [
    "### Attention:\n",
    "We only use the first token in `logits = down[:, 0, :]` because [CLS] stands for the whole sentence meaning.\n",
    "\n",
    "But why? That's because it's used for NSP(Next Sentence Prediction) task **when the BERT was pretraining**,\n",
    "So the first token \"[CLS]\" contains more **high dimensional information** than the other tokens.\n",
    "Which means you can also use the second token like `logits = down[:, 1, :]` or any other token, even sum them up.\n",
    "But seldom we use the other tokens, because they are not trained to be use such kind of task.(They preform better in other tasks like fill-mask)\n",
    "\n",
    "> You can click [here](https://huggingface.co/docs/transformers/main/en/model_doc/bert#transformers.BertModel.forward.returns) for more details about the model output."
   ],
   "metadata": {
    "collapsed": false,
    "pycharm": {
     "name": "#%% md\n"
    }
   }
  },
  {
   "cell_type": "markdown",
   "source": [
    "## 5. Load data && Split dataset && Get the parameter done"
   ],
   "metadata": {
    "collapsed": false
   }
  },
  {
   "cell_type": "code",
   "execution_count": null,
   "outputs": [],
   "source": [
    "# load data\n",
    "df = pd.read_csv('to/you/data/path/train.csv')\n",
    "device = torch.device('cuda' if torch.cuda.is_available() else 'cpu')\n",
    "model = Model(pretrained_model_path).to(device)\n",
    "df_dataset = Mydataset(df, pretrained_model_path)\n",
    "# train params\n",
    "EPOCHS = 1\n",
    "BS = 32\n",
    "# generate loaders\n",
    "from sklearn.model_selection import train_test_split\n",
    "train_df, val_df = train_test_split(df, test_size=0.2, random_state=42)\n",
    "train_dataset = Mydataset(train_df, pretrained_model_path)\n",
    "val_dataset = Mydataset(val_df, pretrained_model_path)\n",
    "train_dataloader = DataLoader(train_dataset, batch_size=BS, shuffle=True)\n",
    "val_dataloader = DataLoader(val_dataset, batch_size=BS, shuffle=True)\n",
    "\n",
    "# optimizer && loss function\n",
    "optimizer = torch.optim.AdamW(model.parameters(), lr=5e-5)\n",
    "criterion = nn.MSELoss()"
   ],
   "metadata": {
    "collapsed": false,
    "pycharm": {
     "name": "#%%\n"
    }
   }
  },
  {
   "cell_type": "markdown",
   "source": [
    "## 6. Pytorch origin style train loop\n",
    "> Surely you can use pytorch lightning or the Trainer API of huggingface to train your model,but I prefer to write my own train loop.\n",
    "It's more readable and easy to understand, and more flexible."
   ],
   "metadata": {
    "collapsed": false,
    "pycharm": {
     "name": "#%% md\n"
    }
   }
  },
  {
   "cell_type": "code",
   "execution_count": null,
   "outputs": [],
   "source": [
    "from tqdm import tqdm\n",
    "\n",
    "def train(epoch):\n",
    "    global step\n",
    "    model.train()\n",
    "    for epoch in range(EPOCHS):\n",
    "        total_loss = 0\n",
    "        for step, batch in enumerate(tqdm(train_dataloader)):\n",
    "            # get batch from __getitem__ of dataset class\n",
    "            # and put them to device(CPU or GPU)\n",
    "            input_ids, attention_mask, label = batch\n",
    "            input_ids = input_ids.to(device)\n",
    "            attention_mask = attention_mask.to(device)\n",
    "            label = label.to(device)\n",
    "            # forward\n",
    "            logits = model(input_ids, attention_mask)\n",
    "            # calculate loss && do backward\n",
    "            optimizer.zero_grad()\n",
    "            loss = criterion(logits, label)\n",
    "            loss.backward()\n",
    "            # update parameters\n",
    "            optimizer.step()\n",
    "            total_loss += loss.item() # accumulate loss\n",
    "\n",
    "        print(f'Epoch {epoch+1}/{EPOCHS} loss: {total_loss/step}')"
   ],
   "metadata": {
    "collapsed": false,
    "pycharm": {
     "name": "#%%\n"
    }
   }
  },
  {
   "cell_type": "markdown",
   "source": [
    "## 7. Pytorch origin style evaluate"
   ],
   "metadata": {
    "collapsed": false,
    "pycharm": {
     "name": "#%% md\n"
    }
   }
  },
  {
   "cell_type": "code",
   "execution_count": null,
   "outputs": [],
   "source": [
    "def evaluate():\n",
    "    model.eval()\n",
    "    total_loss = 0\n",
    "    with torch.no_grad(): # no need to calculate the gradient\n",
    "        for step, batch in enumerate(tqdm(val_dataloader)):\n",
    "            # get batch from __getitem__ of dataset class\n",
    "            # and put them to device(CPU or GPU)\n",
    "            input_ids, attention_mask, label = batch\n",
    "            input_ids = input_ids.to(device)\n",
    "            attention_mask = attention_mask.to(device)\n",
    "            label = label.to(device)\n",
    "            # forward\n",
    "            logits = model(input_ids, attention_mask)\n",
    "            # calculate loss\n",
    "            loss = criterion(logits, label)\n",
    "            # record the loss\n",
    "            total_loss += loss.item()\n",
    "    # return average loss\n",
    "    return total_loss / len(val_dataloader)"
   ],
   "metadata": {
    "collapsed": false,
    "pycharm": {
     "name": "#%%\n"
    }
   }
  },
  {
   "cell_type": "markdown",
   "source": [
    "## 8. Do what you want"
   ],
   "metadata": {
    "collapsed": false,
    "pycharm": {
     "name": "#%% md\n"
    }
   }
  },
  {
   "cell_type": "code",
   "execution_count": null,
   "outputs": [],
   "source": [
    "def my_process():\n",
    "    train(EPOCHS)\n",
    "    val_loss = evaluate()\n",
    "    print(f'val_loss: {val_loss}')"
   ],
   "metadata": {
    "collapsed": false,
    "pycharm": {
     "name": "#%%\n"
    }
   }
  },
  {
   "cell_type": "code",
   "execution_count": null,
   "outputs": [],
   "source": [
    "if __name__ == '__main__':\n",
    "    my_process()"
   ],
   "metadata": {
    "collapsed": false,
    "pycharm": {
     "name": "#%%\n"
    }
   }
  }
 ],
 "metadata": {
  "kernelspec": {
   "display_name": "Python 3",
   "language": "python",
   "name": "python3"
  },
  "language_info": {
   "codemirror_mode": {
    "name": "ipython",
    "version": 2
   },
   "file_extension": ".py",
   "mimetype": "text/x-python",
   "name": "python",
   "nbconvert_exporter": "python",
   "pygments_lexer": "ipython2",
   "version": "2.7.6"
  }
 },
 "nbformat": 4,
 "nbformat_minor": 0
}